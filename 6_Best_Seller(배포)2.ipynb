{
 "cells": [
  {
   "cell_type": "markdown",
   "metadata": {
    "id": "XorsAPvTrk0C"
   },
   "source": [
    "# 4. 사용자 집단별 추천"
   ]
  },
  {
   "cell_type": "code",
   "execution_count": 17,
   "metadata": {
    "colab": {
     "base_uri": "https://localhost:8080/"
    },
    "id": "9mnB90_9rq8U",
    "outputId": "109923cf-c992-4146-e35d-6fafa55e2363"
   },
   "outputs": [
    {
     "name": "stdout",
     "output_type": "stream",
     "text": [
      "   movie_id              title\n",
      "0         1   Toy Story (1995)\n",
      "1         2   GoldenEye (1995)\n",
      "2         3  Four Rooms (1995)\n",
      "3         4  Get Shorty (1995)\n",
      "4         5     Copycat (1995)\n",
      "   user_id  movie_id  rating\n",
      "0      196       242       3\n",
      "1      186       302       3\n",
      "2       22       377       1\n",
      "3      244        51       2\n",
      "4      166       346       1\n"
     ]
    }
   ],
   "source": [
    "import numpy as np\n",
    "import pandas as pd\n",
    "\n",
    "# 데이터 읽어오기(u.user, u.item, u.data)\n",
    "u_cols=['user_id', 'age', 'sex', 'occupation', 'zip_code'] # 사용자 아이디, 나이, 성별, 직업, 우편번호\n",
    "users = pd.read_csv('data/u.user', \n",
    "                    sep='|',\n",
    "                    names=u_cols,\n",
    "                    encoding='latin-1')\n",
    "#users = users.set_index('user_id')\n",
    "\n",
    "\n",
    "i_cols = ['movie_id','title', 'release date', 'video release date',\n",
    "          'IMDB URL', 'unknown', 'Action', 'Adventure', 'Animation',\n",
    "          'Children\\'s','Comedy','Crime', 'Documentary','Drama', \n",
    "          'Fantasy','Film-Noir','Horror','Musical','Mystery','Romance',\n",
    "          'Sci-Fi','Thriller','War','Western']\n",
    "\n",
    "items = pd.read_csv('data/u.item',\n",
    "                    sep='|',\n",
    "                    names=i_cols,\n",
    "                    encoding='latin-1')\n",
    "#items = items.set_index('movie_id')\n",
    "\n",
    "\n",
    "r_cols = ['user_id', 'movie_id', 'rating', 'timestamp']\n",
    "ratings = pd.read_csv('data/u.data',\n",
    "                      sep='\\t',\n",
    "                      names=r_cols,\n",
    "                      encoding='latin-1')\n",
    "#ratings=ratings.set_index('user_id')\n",
    "\n",
    "items = items[['movie_id', 'title']]\n",
    "ratings = ratings.drop('timestamp', axis=1)\n",
    "\n",
    "print(items.head())\n",
    "print(ratings.head())\n",
    "\n"
   ]
  },
  {
   "cell_type": "code",
   "execution_count": 18,
   "metadata": {
    "id": "rCOeoK7Mr-IT"
   },
   "outputs": [],
   "source": [
    "# 데이터 train, test set 분리\n",
    "from sklearn.model_selection import train_test_split\n",
    "\n",
    "\n",
    "\n"
   ]
  },
  {
   "cell_type": "code",
   "execution_count": 21,
   "metadata": {
    "id": "sMv4CX0HsEEm"
   },
   "outputs": [],
   "source": [
    "# RMSE 함수 구현\n",
    "\n"
   ]
  },
  {
   "cell_type": "code",
   "execution_count": 22,
   "metadata": {
    "id": "mL4DcXG1sLUw"
   },
   "outputs": [],
   "source": [
    "# 모델별 RMSE를 계산하는 함수 구현(score)\n",
    "\n",
    "    \n",
    "\n"
   ]
  },
  {
   "cell_type": "code",
   "execution_count": 23,
   "metadata": {
    "colab": {
     "base_uri": "https://localhost:8080/"
    },
    "id": "O0JMO4JzsS3b",
    "outputId": "b1fdb81c-8bc1-4eb7-e891-e6c02317bf13"
   },
   "outputs": [],
   "source": [
    "# best_seller 함수 구현\n",
    "\n",
    "\n",
    "\n",
    "\n",
    "\n"
   ]
  }
 ],
 "metadata": {
  "colab": {
   "collapsed_sections": [],
   "provenance": []
  },
  "kernelspec": {
   "display_name": "Python 3 (ipykernel)",
   "language": "python",
   "name": "python3"
  },
  "language_info": {
   "codemirror_mode": {
    "name": "ipython",
    "version": 3
   },
   "file_extension": ".py",
   "mimetype": "text/x-python",
   "name": "python",
   "nbconvert_exporter": "python",
   "pygments_lexer": "ipython3",
   "version": "3.7.13"
  }
 },
 "nbformat": 4,
 "nbformat_minor": 1
}
