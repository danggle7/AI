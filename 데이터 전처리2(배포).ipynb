{
 "cells": [
  {
   "cell_type": "code",
   "execution_count": 2,
   "id": "d810eb94",
   "metadata": {},
   "outputs": [],
   "source": [
    "# 타이타닉 호 승객 정보 (탐색적 데이터 분석)"
   ]
  },
  {
   "cell_type": "code",
   "execution_count": 3,
   "id": "bac18523",
   "metadata": {},
   "outputs": [],
   "source": [
    "#라이브러리 import\n",
    "\n",
    "\n",
    "\n",
    "\n"
   ]
  },
  {
   "cell_type": "code",
   "execution_count": 4,
   "id": "79f5cf14",
   "metadata": {},
   "outputs": [],
   "source": [
    "# 그래프 그릴 때 한글깨짐 방지 코드\n",
    "import matplotlib\n",
    "import platform\n",
    "if platform.system() == 'Windows' :\n",
    "    matplotlib.rc('font', family='Malgun Gothic')  # resource config\n",
    "elif platform.system() == 'Darwin': # MAC 커널 이름\n",
    "    matplotlib.rc('font', family='AppleGothic')\n",
    "else : # Linux 운영체제\n",
    "    matplotlib.rc('font', family='NanumGothic')"
   ]
  },
  {
   "cell_type": "code",
   "execution_count": 5,
   "id": "bd98f740",
   "metadata": {},
   "outputs": [],
   "source": [
    "# - 기호 깨짐 방지\n",
    "matplotlib.rcParams['axes.unicode_minus'] = False   "
   ]
  },
  {
   "cell_type": "code",
   "execution_count": 6,
   "id": "da72e447",
   "metadata": {},
   "outputs": [],
   "source": [
    "# 에러(error), 경고(warning), 정보(info)\n",
    "# 경고 메시지를 안보이게 하는 코드\n",
    "import warnings\n",
    "warnings.filterwarnings('ignore')"
   ]
  },
  {
   "cell_type": "code",
   "execution_count": 7,
   "id": "2a6f1a2c",
   "metadata": {},
   "outputs": [],
   "source": [
    "# data/titanic.xls 파일 불러오기\n",
    "\n"
   ]
  },
  {
   "cell_type": "code",
   "execution_count": 8,
   "id": "5d7b8034",
   "metadata": {},
   "outputs": [],
   "source": [
    "# 학습데이터를 만드는 과정 -> 전처리 과정 (분석 및 시각화 동시에 진행하는 것 : 탐색적 데이터 분석)\n",
    "# survived : 생존 유무 (1:생존, 0:사망) - 범주형    ------------- 정답, label, y\n",
    "# pclass : 선실등급 (1>2>3... 1등실이 가장 좋음) - 범주형(순서형) -> 가중치를 줄 수 있다. --------- 학습데이터, x\n",
    "# sex : 성별 - 범주형(명목형) -> one-hot encoding 필요\n",
    "# age : 나이 - 수치형(연속형 : 실수)\n",
    "# sibsp : 부부, 형제자매 수 - 수치형(이산형 : 정수)\n",
    "# parch : 부모, 자식 수 - 수치형(이산형 : 정수)\n",
    "# ticket : 티켓 번호 (의미X)\n",
    "# fare : 운임 - 수치형(연속형 : 실수)\n",
    "# cabin : 선실번호\n",
    "# embarked : 짐 유무\n",
    "# boat : 탈출 보트 번호  * NaN : 결측치\n",
    "# body : 신체정보\n",
    "# home.dest : 출발지, 목적지         "
   ]
  },
  {
   "cell_type": "code",
   "execution_count": 9,
   "id": "9ae66c85",
   "metadata": {},
   "outputs": [],
   "source": [
    "# DataFrame 정보 확인\n",
    "\n",
    "\n"
   ]
  },
  {
   "cell_type": "code",
   "execution_count": 10,
   "id": "e6c727bc",
   "metadata": {},
   "outputs": [],
   "source": [
    "# 통계 정보 확인\n",
    "\n",
    "\n"
   ]
  },
  {
   "cell_type": "code",
   "execution_count": 11,
   "id": "f69cfb99",
   "metadata": {},
   "outputs": [],
   "source": [
    "# 운임이 결측치인 사람 출력\n",
    "\n",
    "\n"
   ]
  },
  {
   "cell_type": "code",
   "execution_count": 12,
   "id": "1efcc18b",
   "metadata": {},
   "outputs": [],
   "source": [
    "# 각 컬럼의 null 여부 확인\n",
    "\n",
    "\n"
   ]
  },
  {
   "cell_type": "code",
   "execution_count": 13,
   "id": "d8723582",
   "metadata": {},
   "outputs": [],
   "source": [
    "# 결측치 갯수를 출력\n",
    "\n",
    "\n"
   ]
  },
  {
   "cell_type": "code",
   "execution_count": 14,
   "id": "ecac39c4",
   "metadata": {},
   "outputs": [],
   "source": [
    "# fair가 null인 사람 삭제\n",
    "\n",
    "\n",
    "\n",
    "# body 컬럼 삭제\n",
    "\n",
    "\n"
   ]
  },
  {
   "cell_type": "code",
   "execution_count": 15,
   "id": "37066155",
   "metadata": {},
   "outputs": [],
   "source": [
    "#성별에 따른 생존자 수 확인\n",
    "\n",
    "\n"
   ]
  },
  {
   "cell_type": "code",
   "execution_count": 16,
   "id": "fc279f82",
   "metadata": {},
   "outputs": [],
   "source": [
    "# 성별에 따른 생존자 수 도식화 \n",
    "\n",
    "\n",
    "\n",
    "\n"
   ]
  },
  {
   "cell_type": "code",
   "execution_count": 17,
   "id": "17b5f1e4",
   "metadata": {},
   "outputs": [],
   "source": [
    "# 통계 : 정규분포를 이루고 있어야 통계가 가능하다\n",
    "# 나이 히스토그램\n",
    "\n",
    "\n"
   ]
  },
  {
   "cell_type": "code",
   "execution_count": 18,
   "id": "66f259f7",
   "metadata": {},
   "outputs": [],
   "source": [
    "# 선실등급에 따른 생존 정보\n",
    "\n",
    "\n"
   ]
  },
  {
   "cell_type": "code",
   "execution_count": 19,
   "id": "78fcf143",
   "metadata": {},
   "outputs": [],
   "source": [
    "# 변수 상관관계\n",
    "\n",
    "\n"
   ]
  },
  {
   "cell_type": "code",
   "execution_count": 20,
   "id": "b43ad519",
   "metadata": {},
   "outputs": [],
   "source": [
    "# 성별에 따른 생존 정보\n",
    "\n",
    "\n"
   ]
  },
  {
   "cell_type": "code",
   "execution_count": 21,
   "id": "875adc8c",
   "metadata": {},
   "outputs": [],
   "source": [
    "# 선실 등급과 생존 정보 확인\n",
    "\n",
    "\n"
   ]
  },
  {
   "cell_type": "code",
   "execution_count": 22,
   "id": "a609ce66",
   "metadata": {},
   "outputs": [],
   "source": [
    "# 데이터 전처리 : 훈련 데이터 X와 정답 y를 준비하는 과정"
   ]
  },
  {
   "cell_type": "code",
   "execution_count": 23,
   "id": "0341ab3f",
   "metadata": {},
   "outputs": [],
   "source": [
    "# 남여 정보를 숫자로 변경, 머신러닝의 재료가 되기 위해서 숫자 변경\n",
    "# 남자(male)는 0으로, 여자(female)는 1로 변경 / 원칙적으로는 one-hot encoding 처리, 두가지 경우만 존재하기에 0, 1로 변경\n",
    "\n",
    "\n"
   ]
  },
  {
   "cell_type": "code",
   "execution_count": 24,
   "id": "9ce579e4",
   "metadata": {},
   "outputs": [],
   "source": [
    "# 나이 결측치를 채우자\n",
    "# name 컬럼의 이니셜(Mr., Mrs., Miss. 등)별 평균으로 채우자!"
   ]
  },
  {
   "cell_type": "code",
   "execution_count": 25,
   "id": "91784056",
   "metadata": {},
   "outputs": [],
   "source": [
    "# 이름에서 이니셜 가져와 새로운 컬럼 만들기\n",
    "\n",
    "\n",
    "\n",
    "\n"
   ]
  },
  {
   "cell_type": "code",
   "execution_count": 26,
   "id": "689f6d54",
   "metadata": {},
   "outputs": [],
   "source": [
    "# 이니셜에 따른 성별 나타내기\n",
    "\n"
   ]
  },
  {
   "cell_type": "code",
   "execution_count": 27,
   "id": "280588b0",
   "metadata": {},
   "outputs": [],
   "source": [
    "# 이전 테이블 Transformation 하기\n",
    "\n"
   ]
  },
  {
   "cell_type": "code",
   "execution_count": 28,
   "id": "9d2ccafb",
   "metadata": {},
   "outputs": [],
   "source": [
    "#initial = ['Capt', 'Col', 'Countess', 'Don', 'Dona', 'Dr', 'Jonkheer', 'Lady','Major', 'Master', 'Miss', 'Mme', 'Mr', 'Mrs', 'Ms', 'Rev', 'Sir']"
   ]
  },
  {
   "cell_type": "code",
   "execution_count": 29,
   "id": "1e8364d3",
   "metadata": {},
   "outputs": [],
   "source": [
    "# 이니셜별 결측치 갯수 확인\n",
    "\n",
    "\n",
    "\n"
   ]
  },
  {
   "cell_type": "code",
   "execution_count": 30,
   "id": "1eab31ca",
   "metadata": {},
   "outputs": [],
   "source": [
    "# 이니셜을 5가지로 통일 : Mr, Mrs(기혼여성), Miss(미혼여성), Master, Other\n",
    "# 남자, 기혼여성, 미혼여성, 아이, 기타\n",
    "#before = ['Capt', 'Col', 'Countess', 'Don', 'Dona', 'Dr', 'Jonkheer', 'Lady', 'Major','Mlle','Mme', 'Ms', 'Rev', 'Sir']\n",
    "#after = ['Mr', 'Mr', 'Mrs', 'Mr', 'Miss', 'Other', 'Mr', 'Miss', 'Mr', 'Mrs', 'Miss', 'Miss', 'Other', 'Mr']\n"
   ]
  },
  {
   "cell_type": "code",
   "execution_count": 31,
   "id": "4d429637",
   "metadata": {},
   "outputs": [],
   "source": [
    "# Master의 평균 나이 출력\n",
    "\n",
    "\n"
   ]
  },
  {
   "cell_type": "code",
   "execution_count": 32,
   "id": "47bf3ba2",
   "metadata": {},
   "outputs": [],
   "source": [
    "# 이니셜 별 평균 나이 출력\n",
    "\n",
    "\n"
   ]
  },
  {
   "cell_type": "code",
   "execution_count": 33,
   "id": "095c7d9e",
   "metadata": {},
   "outputs": [],
   "source": [
    "#iloc : index 기반으로 검색, loc : column명 기반으로 검색\n",
    "# 나이가 결측치이고 이니셜이 'Master'인 사람을 찾자\n",
    "\n",
    "\n",
    "\n",
    "\n",
    "\n"
   ]
  },
  {
   "cell_type": "code",
   "execution_count": 34,
   "id": "b0d0f054",
   "metadata": {},
   "outputs": [],
   "source": [
    "# 나이가 결측치이고 이니셜이 'Master'인 사람의 age를 채우자\n",
    "\n",
    "\n"
   ]
  },
  {
   "cell_type": "code",
   "execution_count": 35,
   "id": "5707808f",
   "metadata": {},
   "outputs": [],
   "source": [
    "# 나이가 결측치이고 이니셜이 'Master'인 사람의 age를 채우자\n",
    "\n",
    "\n",
    "\n",
    "\n"
   ]
  },
  {
   "cell_type": "code",
   "execution_count": null,
   "id": "330b2ebd",
   "metadata": {},
   "outputs": [],
   "source": [
    "# 결측치 정보 확인\n",
    "\n",
    "\n",
    "\n"
   ]
  }
 ],
 "metadata": {
  "kernelspec": {
   "display_name": "Python 3 (ipykernel)",
   "language": "python",
   "name": "python3"
  },
  "language_info": {
   "codemirror_mode": {
    "name": "ipython",
    "version": 3
   },
   "file_extension": ".py",
   "mimetype": "text/x-python",
   "name": "python",
   "nbconvert_exporter": "python",
   "pygments_lexer": "ipython3",
   "version": "3.7.13"
  }
 },
 "nbformat": 4,
 "nbformat_minor": 5
}
