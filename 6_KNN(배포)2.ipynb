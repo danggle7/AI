{
 "cells": [
  {
   "cell_type": "markdown",
   "metadata": {
    "id": "CCYbw2VNo27d"
   },
   "source": [
    "# 4. 사용자의 평가경향을 고려한 CF"
   ]
  },
  {
   "cell_type": "code",
   "execution_count": 31,
   "metadata": {
    "id": "OnTxM5aDo_em"
   },
   "outputs": [],
   "source": [
    "import os\n",
    "import pandas as pd\n",
    "import numpy as np\n",
    "from sklearn.model_selection import train_test_split\n",
    "from sklearn.metrics.pairwise import cosine_similarity\n",
    "\n",
    "# 데이터 읽어오기(user, item, data)\n",
    "\n",
    "u_cols = ['user_id','age','sex','occupation', 'zip_code'] # 사용자아이디, 나이, 성별, 직업, 우편번호\n",
    "users = pd.read_csv('data/u.user', \n",
    "                    sep='|', \n",
    "                    names=u_cols, \n",
    "                    encoding = 'latin-1')\n",
    "users = users.set_index('user_id')\n",
    "\n",
    "\n",
    "i_cols = ['movie_id','title', 'release date', 'video release date',\n",
    "          'IMDB URL', 'unknown', 'Action', 'Adventure', 'Animation',\n",
    "          'Children\\'s','Comedy','Crime', 'Documentary','Drama', \n",
    "          'Fantasy','Film-Noir','Horror','Musical','Mystery','Romance',\n",
    "          'Sci-Fi','Thriller','War','Western']\n",
    "movies = pd.read_csv('data/u.item', \n",
    "                     sep='|', \n",
    "                     names=i_cols,\n",
    "                     encoding = 'latin-1')\n",
    "movies = movies.set_index('movie_id')\n",
    "\n",
    "\n",
    "r_cols = ['user_id','movie_id','rating','timestamp']\n",
    "ratings = pd.read_csv('data/u.data', \n",
    "                     sep='\\t', \n",
    "                     names=r_cols,\n",
    "                     encoding = 'latin-1')\n",
    "\n",
    "\n"
   ]
  },
  {
   "cell_type": "code",
   "execution_count": 32,
   "metadata": {
    "id": "_sDWnXvApEus"
   },
   "outputs": [],
   "source": [
    "# 정확도(RMSE)를 계산하는 함수\n",
    "def RMSE(y_true, y_pred) :\n",
    "    return np.sqrt(np.mean((np.array(y_true) - np.array(y_pred))**2))\n"
   ]
  },
  {
   "cell_type": "code",
   "execution_count": 33,
   "metadata": {
    "id": "B43YfKW9pHIW"
   },
   "outputs": [],
   "source": [
    "def score(model, neighbor_size=0) :\n",
    "    #테스트 데이터의 user_id와 movie_id간 pair를 맞춰 튜플형원소 리스트데이터를 만듬\n",
    "    id_pairs = zip(x_test['user_id'], x_test['movie_id']) # 튜플 형태로 만들어 줌\n",
    "    \n",
    "    #모든 사용자-영화 짝에 대해서 주어진 예측모델에 의한 예측값 계산 및 리스트형 데이터 생성\n",
    "    y_pred = np.array([model(user, movie,neighbor_size) for (user, movie) in id_pairs])\n",
    "    \n",
    "    #실제 평점값\n",
    "    y_true = np.array(x_test['rating'])\n",
    "    return RMSE(y_true, y_pred)        "
   ]
  },
  {
   "cell_type": "code",
   "execution_count": 34,
   "metadata": {
    "id": "De8Fr6dEpLL5"
   },
   "outputs": [],
   "source": [
    "# 데이터 셋 만들기\n",
    "x = ratings.copy()\n",
    "y = ratings['user_id']\n",
    "\n",
    "\n",
    "x_train, x_test, y_train, y_test = train_test_split(x, y,\n",
    "                                                    test_size=0.25,\n",
    "                                                    stratify=y) #계층화 추출\n",
    "rating_matrix = x_train.pivot(index='user_id', \n",
    "                              columns='movie_id',\n",
    "                              values='rating')\n"
   ]
  },
  {
   "cell_type": "code",
   "execution_count": 35,
   "metadata": {
    "id": "1RwqR0CkpPWQ"
   },
   "outputs": [
    {
     "name": "stdout",
     "output_type": "stream",
     "text": [
      "user_id       1         2         3         4         5         6         7    \\\n",
      "user_id                                                                         \n",
      "1        1.000000  0.116919  0.047989  0.067611  0.305415  0.343038  0.369981   \n",
      "2        0.116919  1.000000  0.072933  0.131519  0.032758  0.203473  0.065847   \n",
      "3        0.047989  0.072933  1.000000  0.195390  0.027846  0.063695  0.066068   \n",
      "4        0.067611  0.131519  0.195390  1.000000  0.041446  0.080036  0.067818   \n",
      "5        0.305415  0.032758  0.027846  0.041446  1.000000  0.173378  0.243990   \n",
      "...           ...       ...       ...       ...       ...       ...       ...   \n",
      "939      0.097422  0.250733  0.035688  0.040704  0.066928  0.102331  0.080348   \n",
      "940      0.251135  0.176157  0.132746  0.176143  0.214383  0.267901  0.244684   \n",
      "941      0.107922  0.139638  0.108527  0.136157  0.147165  0.124721  0.062734   \n",
      "942      0.154504  0.120087  0.096442  0.122947  0.126829  0.261880  0.210407   \n",
      "943      0.334440  0.078667  0.000000  0.077526  0.243182  0.270701  0.342257   \n",
      "\n",
      "user_id       8         9         10   ...       934       935       936  \\\n",
      "user_id                                ...                                 \n",
      "1        0.237297  0.088338  0.328704  ...  0.308781  0.085578  0.218193   \n",
      "2        0.098551  0.131260  0.105758  ...  0.058408  0.191699  0.247429   \n",
      "3        0.080817  0.058533  0.077695  ...  0.028456  0.019313  0.166979   \n",
      "4        0.198290  0.075105  0.060354  ...  0.038947  0.000000  0.076472   \n",
      "5        0.164813  0.037998  0.145040  ...  0.273399  0.051404  0.072709   \n",
      "...           ...       ...       ...  ...       ...       ...       ...   \n",
      "939      0.094754  0.000000  0.062894  ...  0.033321  0.307084  0.158634   \n",
      "940      0.185679  0.107800  0.230137  ...  0.223379  0.106416  0.124871   \n",
      "941      0.166236  0.052655  0.070837  ...  0.061330  0.116729  0.222425   \n",
      "942      0.156685  0.042452  0.130975  ...  0.203632  0.049025  0.080487   \n",
      "943      0.190652  0.065958  0.228737  ...  0.226022  0.151889  0.087446   \n",
      "\n",
      "user_id       937       938       939       940       941       942       943  \n",
      "user_id                                                                        \n",
      "1        0.150085  0.141796  0.097422  0.251135  0.107922  0.154504  0.334440  \n",
      "2        0.350225  0.258402  0.250733  0.176157  0.139638  0.120087  0.078667  \n",
      "3        0.062249  0.110034  0.035688  0.132746  0.108527  0.096442  0.000000  \n",
      "4        0.194471  0.092719  0.040704  0.176143  0.136157  0.122947  0.077526  \n",
      "5        0.085739  0.129640  0.066928  0.214383  0.147165  0.126829  0.243182  \n",
      "...           ...       ...       ...       ...       ...       ...       ...  \n",
      "939      0.214166  0.246553  1.000000  0.065846  0.158291  0.035662  0.037236  \n",
      "940      0.186306  0.159660  0.065846  1.000000  0.121962  0.236697  0.167219  \n",
      "941      0.155210  0.289932  0.158291  0.121962  1.000000  0.062968  0.028309  \n",
      "942      0.120915  0.076230  0.035662  0.236697  0.062968  1.000000  0.163598  \n",
      "943      0.031769  0.164243  0.037236  0.167219  0.028309  0.163598  1.000000  \n",
      "\n",
      "[943 rows x 943 columns]\n"
     ]
    }
   ],
   "source": [
    "# 코사인 유사도 계산\n",
    "matrix_dummy = rating_matrix.copy().fillna(0)\n",
    "user_similarity = cosine_similarity(matrix_dummy, matrix_dummy)\n",
    "\n",
    "\n",
    "user_similarity = pd.DataFrame(user_similarity,\n",
    "                               index = rating_matrix.index,\n",
    "                               columns = rating_matrix.index)\n",
    "print(user_similarity)\n"
   ]
  },
  {
   "cell_type": "code",
   "execution_count": 36,
   "metadata": {},
   "outputs": [],
   "source": [
    "# 각 사용자의 평균을 구한 후 평균과의 차이를 구함\n",
    "\n",
    "\n",
    "\n",
    "\n"
   ]
  },
  {
   "cell_type": "code",
   "execution_count": 37,
   "metadata": {},
   "outputs": [],
   "source": [
    "#type(rating_matrix)"
   ]
  },
  {
   "cell_type": "code",
   "execution_count": 38,
   "metadata": {},
   "outputs": [],
   "source": [
    "# 사용자 평가 경향을 고려한 함수\n",
    "def CF_knn_bias(user_id, movie_id, neighbor_size=0) :##### Neighbor size를 정해서 예측치를 계산하는 함수\n",
    "\n",
    "  # train/test set의 분할에 따라 rating_matrix에 해당 영화가 있는지 확인\n",
    "  if movie_id in rating_matrix.columns:\n",
    "    # 주어진 사용자(user_id)와 다른 사용자의 유사도 추출\n",
    "    sim_scores = user_similarity[user_id].copy()\n",
    "    # 주어진 영화(movie_id)와 다른 사용자의 유사도 추출\n",
    "    movie_ratings = rating_matrix[movie_id].copy()\n",
    "    # 주어진 영화에 대해서 펴아를 하지 않은 사용자를 가중평균계산에서 제외하기 위한 인덱스 추출\n",
    "    none_rating_idx = movie_ratings[movie_ratings.isnull()].index\n",
    "    # 주어진 영화에 대해서 평가를 하지 않은 사람 제외\n",
    "    movie_ratings = movie_ratings.dropna()\n",
    "    # 주어진 영화를 평가하지 않은 사용자와의 유사도를 제거, 가중 평균 계산할 때 필요가 없기 때문\n",
    "    sim_scores = sim_scores.drop(none_rating_idx)\n",
    "\n",
    "    if neighbor_size == 0: # neighbor_size가 지정되지 않은 경우\n",
    "      mean_rating = np.dot(sim_scores, movie_ratings)/sim_scores.sum()\n",
    "    else : # neighbor_size가 지정된 경우\n",
    "      if len(sim_scores)>1 :\n",
    "        neighbor_size = min(neighbor_size, len(sim_scores))\n",
    "        sim_scores = np.array(sim_scores)\n",
    "        movie_ratings = np.array(movie_ratings)\n",
    "        user_idx = np.argsort(sim_scores)\n",
    "        sim_scores = sim_scores[user_idx][-neighbor_size:]\n",
    "        movie_ratings = movie_ratings[user_idx][-neighbor_size:]\n",
    "        mean_rating = np.dot(sim_scores, movie_ratings)/sim_scores.sum()\n",
    "      else :\n",
    "        mean_rating = 3.0\n",
    "  else : # train/test set의 분할에 따라 rating_matrix에 해당 영화가 없으면 기본값 3.0 예측치로 간주\n",
    "    mean_rating = 3.0\n",
    "    \n",
    "  return mean_rating\n",
    "\n",
    "#score(CF_knn_bias, 10)\n",
    "                                 "
   ]
  }
 ],
 "metadata": {
  "colab": {
   "collapsed_sections": [],
   "provenance": []
  },
  "kernelspec": {
   "display_name": "Python 3 (ipykernel)",
   "language": "python",
   "name": "python3"
  },
  "language_info": {
   "codemirror_mode": {
    "name": "ipython",
    "version": 3
   },
   "file_extension": ".py",
   "mimetype": "text/x-python",
   "name": "python",
   "nbconvert_exporter": "python",
   "pygments_lexer": "ipython3",
   "version": "3.7.13"
  }
 },
 "nbformat": 4,
 "nbformat_minor": 1
}
