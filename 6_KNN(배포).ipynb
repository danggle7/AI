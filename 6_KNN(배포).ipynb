{
 "cells": [
  {
   "cell_type": "markdown",
   "metadata": {
    "id": "0y8XmLmJfzMP"
   },
   "source": [
    "# 1. 기본 CF 알고리즘"
   ]
  },
  {
   "cell_type": "code",
   "execution_count": 38,
   "metadata": {
    "id": "yU0NDbPRfu2p"
   },
   "outputs": [],
   "source": [
    "# 관련 라이브러리 import\n",
    "import os\n",
    "import pandas as pd\n",
    "import numpy as np\n",
    "from sklearn.model_selection import train_test_split"
   ]
  },
  {
   "cell_type": "code",
   "execution_count": 39,
   "metadata": {
    "id": "_13rhRUUgu0o"
   },
   "outputs": [],
   "source": [
    "# 데이터 읽어오기(user, item, data)\n",
    "\n",
    "u_cols = ['user_id','age','sex','occupation', 'zip_code'] # 사용자아이디, 나이, 성별, 직업, 우편번호\n",
    "users = pd.read_csv('data/u.user', \n",
    "                    sep='|', \n",
    "                    names=u_cols, \n",
    "                    encoding = 'latin-1')\n",
    "users = users.set_index('user_id')\n",
    "\n",
    "\n",
    "i_cols = ['movie_id','title', 'release date', 'video release date',\n",
    "          'IMDB URL', 'unknown', 'Action', 'Adventure', 'Animation',\n",
    "          'Children\\'s','Comedy','Crime', 'Documentary','Drama', \n",
    "          'Fantasy','Film-Noir','Horror','Musical','Mystery','Romance',\n",
    "          'Sci-Fi','Thriller','War','Western']\n",
    "movies = pd.read_csv('data/u.item', \n",
    "                     sep='|', \n",
    "                     names=i_cols,\n",
    "                     encoding = 'latin-1')\n",
    "movies = movies.set_index('movie_id')\n",
    "\n",
    "\n",
    "r_cols = ['user_id','movie_id','rating','timestamp']\n",
    "ratings = pd.read_csv('data/u.data', \n",
    "                     sep='\\t', \n",
    "                     names=r_cols,\n",
    "                     encoding = 'latin-1')"
   ]
  },
  {
   "cell_type": "code",
   "execution_count": 40,
   "metadata": {
    "id": "9t1tpCRPhGmb"
   },
   "outputs": [],
   "source": [
    "# 정확도(RMSE)를 계산하는 함수\n",
    "def RMSE(y_true, y_pred) :\n",
    "    return np.sqrt(np.mean((np.array(y_true) - np.array(y_pred))**2))"
   ]
  },
  {
   "cell_type": "code",
   "execution_count": 41,
   "metadata": {
    "colab": {
     "base_uri": "https://localhost:8080/"
    },
    "id": "boa_vBVgjx32",
    "outputId": "198e5cc2-8c14-4db3-c2ea-6572ee15d69d"
   },
   "outputs": [],
   "source": [
    "# 데이터 셋 만들기\n",
    "x = ratings.copy()\n",
    "y = ratings['user_id']\n",
    "\n",
    "x_train, x_test, y_train, y_test = train_test_split(x, y,\n",
    "                                                    test_size=0.25,\n",
    "                                                    stratify=y) # 계층화 추출\n",
    "# rating full matrix 만들기\n",
    "\n",
    "\n",
    "\n",
    "\n",
    "\n"
   ]
  },
  {
   "cell_type": "code",
   "execution_count": 42,
   "metadata": {
    "id": "7MnNNtvPhOU1"
   },
   "outputs": [],
   "source": [
    "# 모델별 RMSE를 계산하는 함수\n",
    "def score(model):\n",
    "  id_pairs = zip(x_test['user_id'], x_test['movie_id']) # 튜플 형태로 만들어줌\n",
    "\n",
    "  y_pred = np.array([model(user, movie) for (user, movie) in id_pairs])\n",
    "  y_true = np.array(x_test['rating'])\n",
    "\n",
    "  return RMSE(y_true, y_pred)"
   ]
  },
  {
   "cell_type": "code",
   "execution_count": 43,
   "metadata": {
    "id": "BiSPTDYoxsg2"
   },
   "outputs": [],
   "source": [
    "# 코사인 유사도 계산\n",
    "\n",
    "\n",
    "\n",
    "\n",
    "\n"
   ]
  },
  {
   "cell_type": "code",
   "execution_count": 44,
   "metadata": {
    "colab": {
     "base_uri": "https://localhost:8080/"
    },
    "id": "9C7L9dfk0ZCp",
    "outputId": "8c90b124-610e-4486-de43-7a18d070ffdb"
   },
   "outputs": [],
   "source": [
    "# 영화(movie_id)의 가중평균 rating을 계산하는 함수 : CF_simple\n",
    "\n",
    "\n",
    "\n",
    "\n",
    "\n",
    "\n",
    "\n",
    "# 정확도 계산\n",
    "#score(CF_simple)"
   ]
  },
  {
   "cell_type": "markdown",
   "metadata": {
    "id": "AfEnTUEcdDhF"
   },
   "source": [
    "# 2. 이웃을 고려한 CF"
   ]
  },
  {
   "cell_type": "code",
   "execution_count": 45,
   "metadata": {
    "id": "AWOcbEH1dIVe"
   },
   "outputs": [],
   "source": [
    "import os\n",
    "import pandas as pd\n",
    "import numpy as np\n",
    "from sklearn.model_selection import train_test_split\n",
    "\n",
    "# 데이터 읽어오기(user, item, data)\n",
    "\n",
    "u_cols = ['user_id','age','sex','occupation', 'zip_code'] # 사용자아이디, 나이, 성별, 직업, 우편번호\n",
    "users = pd.read_csv('data/u.user', \n",
    "                    sep='|', \n",
    "                    names=u_cols, \n",
    "                    encoding = 'latin-1')\n",
    "users = users.set_index('user_id')\n",
    "\n",
    "\n",
    "i_cols = ['movie_id','title', 'release date', 'video release date',\n",
    "          'IMDB URL', 'unknown', 'Action', 'Adventure', 'Animation',\n",
    "          'Children\\'s','Comedy','Crime', 'Documentary','Drama', \n",
    "          'Fantasy','Film-Noir','Horror','Musical','Mystery','Romance',\n",
    "          'Sci-Fi','Thriller','War','Western']\n",
    "movies = pd.read_csv('data/u.item', \n",
    "                     sep='|', \n",
    "                     names=i_cols,\n",
    "                     encoding = 'latin-1')\n",
    "movies = movies.set_index('movie_id')\n",
    "\n",
    "'u.data'\n",
    "r_cols = ['user_id','movie_id','rating','timestamp']\n",
    "ratings = pd.read_csv('data/u.data', \n",
    "                     sep='\\t', \n",
    "                     names=r_cols,\n",
    "                     encoding = 'latin-1')"
   ]
  },
  {
   "cell_type": "code",
   "execution_count": 46,
   "metadata": {
    "id": "j1VxsZ_BdXvI"
   },
   "outputs": [],
   "source": [
    "# 정확도(RMSE)를 계산하는 함수\n",
    "def RMSE(y_true, y_pred) :\n",
    "    return np.sqrt(np.mean((np.array(y_true) - np.array(y_pred))**2))"
   ]
  },
  {
   "cell_type": "code",
   "execution_count": 47,
   "metadata": {
    "id": "Cjm3iADmdxmX"
   },
   "outputs": [],
   "source": [
    "# 데이터 셋 만들기\n",
    "x = ratings.copy()\n",
    "y = ratings['user_id']\n",
    "\n",
    "\n",
    "x_train, x_test, y_train, y_test = train_test_split(x, y,\n",
    "                                                    test_size=0.25,\n",
    "                                                    stratify=y) #계층화 추출\n",
    "rating_matrix = x_train.pivot(index='user_id', \n",
    "                              columns='movie_id',\n",
    "                              values='rating')"
   ]
  },
  {
   "cell_type": "code",
   "execution_count": 48,
   "metadata": {
    "colab": {
     "base_uri": "https://localhost:8080/"
    },
    "id": "ucOwSOdbd6Ln",
    "outputId": "91f99d7a-bc46-4005-bd58-bb05b2953088"
   },
   "outputs": [
    {
     "name": "stdout",
     "output_type": "stream",
     "text": [
      "user_id       1         2         3         4         5         6         7    \\\n",
      "user_id                                                                         \n",
      "1        1.000000  0.132616  0.038133  0.049363  0.275786  0.321874  0.372059   \n",
      "2        0.132616  1.000000  0.107137  0.168294  0.038914  0.135191  0.068132   \n",
      "3        0.038133  0.107137  1.000000  0.314519  0.029061  0.070491  0.057424   \n",
      "4        0.049363  0.168294  0.314519  1.000000  0.013278  0.000000  0.066420   \n",
      "5        0.275786  0.038914  0.029061  0.013278  1.000000  0.146651  0.289573   \n",
      "...           ...       ...       ...       ...       ...       ...       ...   \n",
      "939      0.082573  0.084577  0.019946  0.000000  0.062929  0.083273  0.092839   \n",
      "940      0.241185  0.214842  0.128707  0.154579  0.117504  0.233482  0.238900   \n",
      "941      0.147807  0.146261  0.087384  0.063371  0.115148  0.107521  0.052593   \n",
      "942      0.125245  0.183316  0.115315  0.176419  0.103052  0.163268  0.206204   \n",
      "943      0.267086  0.061662  0.020404  0.020716  0.225028  0.206751  0.281763   \n",
      "\n",
      "user_id       8         9         10   ...       934       935       936  \\\n",
      "user_id                                ...                                 \n",
      "1        0.232260  0.059772  0.304251  ...  0.277290  0.117452  0.197658   \n",
      "2        0.121622  0.168991  0.113075  ...  0.096666  0.188995  0.275865   \n",
      "3        0.042387  0.079510  0.049974  ...  0.028612  0.056985  0.128817   \n",
      "4        0.075824  0.129737  0.016913  ...  0.044784  0.048214  0.079265   \n",
      "5        0.116566  0.037961  0.116354  ...  0.254355  0.092685  0.075144   \n",
      "...           ...       ...       ...  ...       ...       ...       ...   \n",
      "939      0.096303  0.000000  0.042796  ...  0.071756  0.395633  0.191021   \n",
      "940      0.172548  0.072169  0.196645  ...  0.241011  0.086403  0.162341   \n",
      "941      0.146041  0.081531  0.087286  ...  0.027383  0.193612  0.210707   \n",
      "942      0.095040  0.061076  0.119227  ...  0.180877  0.055211  0.074127   \n",
      "943      0.171446  0.070627  0.122633  ...  0.184062  0.177168  0.133116   \n",
      "\n",
      "user_id       937       938       939       940       941       942       943  \n",
      "user_id                                                                        \n",
      "1        0.147620  0.159059  0.082573  0.241185  0.147807  0.125245  0.267086  \n",
      "2        0.316956  0.215074  0.084577  0.214842  0.146261  0.183316  0.061662  \n",
      "3        0.071454  0.091992  0.019946  0.128707  0.087384  0.115315  0.020404  \n",
      "4        0.188082  0.103405  0.000000  0.154579  0.063371  0.176419  0.020716  \n",
      "5        0.043869  0.146694  0.062929  0.117504  0.115148  0.103052  0.225028  \n",
      "...           ...       ...       ...       ...       ...       ...       ...  \n",
      "939      0.217566  0.306273  1.000000  0.092170  0.142030  0.035945  0.138536  \n",
      "940      0.136046  0.133788  0.092170  1.000000  0.127988  0.222632  0.175308  \n",
      "941      0.252267  0.226394  0.142030  0.127988  1.000000  0.065311  0.098126  \n",
      "942      0.149225  0.074485  0.035945  0.222632  0.065311  1.000000  0.124539  \n",
      "943      0.059612  0.159576  0.138536  0.175308  0.098126  0.124539  1.000000  \n",
      "\n",
      "[943 rows x 943 columns]\n"
     ]
    }
   ],
   "source": [
    "# 코사인 유사도 계산\n",
    "from sklearn.metrics.pairwise import cosine_similarity\n",
    "matrix_dummy = rating_matrix.copy().fillna(0)\n",
    "user_similarity = cosine_similarity(matrix_dummy, matrix_dummy)\n",
    "\n",
    "\n",
    "user_similarity = pd.DataFrame(user_similarity,\n",
    "                               index = rating_matrix.index,\n",
    "                               columns = rating_matrix.index)\n",
    "print(user_similarity)"
   ]
  },
  {
   "cell_type": "code",
   "execution_count": 49,
   "metadata": {
    "colab": {
     "base_uri": "https://localhost:8080/"
    },
    "id": "zeW173rRd7yu",
    "outputId": "579a400c-7d33-4ffa-b4af-079bd9ded04f"
   },
   "outputs": [],
   "source": [
    "#Neighbor size를 정해서 예측치를 계산하는 함수\n",
    "\n",
    "\n",
    "\n",
    "\n",
    "\n",
    "\n",
    "#print(CF_knn(1,1, 3))\n"
   ]
  },
  {
   "cell_type": "code",
   "execution_count": 50,
   "metadata": {
    "id": "gmLw1SmXdcj2"
   },
   "outputs": [],
   "source": [
    "# 기존 score 함수에 neighbor_size 인자값 추가\n",
    "\n",
    "\n",
    "\n",
    "\n",
    "\n",
    "# 정확도 계산\n",
    "#score(CF_knn, neighbor_size=30)\n"
   ]
  },
  {
   "cell_type": "markdown",
   "metadata": {
    "id": "D5rYlrYonkiy"
   },
   "source": [
    "# 3. 최적의 이웃크기 설정"
   ]
  },
  {
   "cell_type": "code",
   "execution_count": 52,
   "metadata": {
    "colab": {
     "base_uri": "https://localhost:8080/"
    },
    "id": "owXM9_4Pofx7",
    "outputId": "10147747-0a7e-4f55-87a8-3c65cd144791"
   },
   "outputs": [],
   "source": [
    "# neighbor size가 10,20,30,40,50,60인 경우에 대해서 RMSE를 계산하고 이를 출력\n",
    "\n",
    "\n",
    "\n"
   ]
  }
 ],
 "metadata": {
  "colab": {
   "collapsed_sections": [],
   "provenance": []
  },
  "kernelspec": {
   "display_name": "Python 3 (ipykernel)",
   "language": "python",
   "name": "python3"
  },
  "language_info": {
   "codemirror_mode": {
    "name": "ipython",
    "version": 3
   },
   "file_extension": ".py",
   "mimetype": "text/x-python",
   "name": "python",
   "nbconvert_exporter": "python",
   "pygments_lexer": "ipython3",
   "version": "3.7.13"
  }
 },
 "nbformat": 4,
 "nbformat_minor": 1
}
