{
  "nbformat": 4,
  "nbformat_minor": 0,
  "metadata": {
    "colab": {
      "provenance": []
    },
    "kernelspec": {
      "name": "python3",
      "display_name": "Python 3"
    },
    "language_info": {
      "name": "python"
    }
  },
  "cells": [
    {
      "cell_type": "markdown",
      "source": [
        "## Medical Cost Personal Datasets을 이용한 의료보험료 예측\n",
        "\n",
        "### 제공 데이터 변수\n",
        "- Age : 보험 수혜자의 나이\n",
        "- Gender : 성별\n",
        "- BMI : 체질량지수\n",
        "- Children : 자녀 수\n",
        "- Smoker : 흡연 여부\n",
        "- Charges : 건강보험료\n",
        "\n",
        "- 예측할 변수 ['Charges']\n",
        "\n",
        "### 평가: rmse, r2\n",
        "- rmse는 낮을 수록 좋은 성능\n",
        "- r2는 1에 가까울 수록 좋은 성능"
      ],
      "metadata": {
        "id": "UWLbATuo072v"
      }
    },
    {
      "cell_type": "code",
      "execution_count": 1,
      "metadata": {
        "id": "0FlU4Srh06_y"
      },
      "outputs": [],
      "source": [
        "#라이브러리 import\n",
        "import pandas as pd\n",
        "import numpy as np\n",
        "from sklearn.preprocessing import LabelEncoder\n",
        "from sklearn.linear_model import LinearRegression\n",
        "from sklearn.model_selection import train_test_split\n",
        "from sklearn.metrics import r2_score, mean_squared_error"
      ]
    },
    {
      "cell_type": "code",
      "source": [
        "# 데이터 불러오기\n"
      ],
      "metadata": {
        "id": "1wa7ySZ21zmO"
      },
      "execution_count": 2,
      "outputs": []
    },
    {
      "cell_type": "code",
      "source": [
        "# 데이터 정보\n"
      ],
      "metadata": {
        "id": "CPPcmpsnHavu"
      },
      "execution_count": 3,
      "outputs": []
    },
    {
      "cell_type": "code",
      "source": [
        "# 통계정보 확인\n"
      ],
      "metadata": {
        "id": "h-4KdIfDHgIr"
      },
      "execution_count": 4,
      "outputs": []
    },
    {
      "cell_type": "code",
      "source": [
        "#데이터 분리(라벨링) - X\n",
        "\n",
        "\n"
      ],
      "metadata": {
        "id": "zs_yOYYo9Otb"
      },
      "execution_count": 5,
      "outputs": []
    },
    {
      "cell_type": "code",
      "source": [
        "#데이터 분리(라벨링) - y\n",
        "\n",
        "\n"
      ],
      "metadata": {
        "id": "DyO7_9BR96Io"
      },
      "execution_count": 6,
      "outputs": []
    },
    {
      "cell_type": "code",
      "source": [
        "#데이터 분리(훈련데이터와 평가데이터)\n",
        "\n",
        "\n"
      ],
      "metadata": {
        "id": "Uf7vW47S9p4f"
      },
      "execution_count": 7,
      "outputs": []
    },
    {
      "cell_type": "code",
      "source": [
        "#수치형 데이터 변환\n",
        "\n",
        "\n",
        "\n",
        "\n"
      ],
      "metadata": {
        "id": "tR5xsQIxBsVi"
      },
      "execution_count": 8,
      "outputs": []
    },
    {
      "cell_type": "code",
      "source": [
        "#회귀 알고리즘 돌리기\n",
        "\n",
        "\n",
        "\n"
      ],
      "metadata": {
        "id": "6lsCeKAOHp7M"
      },
      "execution_count": 9,
      "outputs": []
    },
    {
      "cell_type": "code",
      "source": [
        "#r2_score, mse 구하기\n",
        "\n",
        "\n"
      ],
      "metadata": {
        "id": "lw8RHIwNZ-jE"
      },
      "execution_count": 10,
      "outputs": []
    },
    {
      "cell_type": "code",
      "source": [
        "#RMSE 함수\n",
        "\n"
      ],
      "metadata": {
        "id": "R_ckZsuHIxeY"
      },
      "execution_count": null,
      "outputs": []
    },
    {
      "cell_type": "code",
      "source": [
        "#rmse 구하기\n",
        "\n",
        "\n"
      ],
      "metadata": {
        "id": "B1lawRHlMzDF"
      },
      "execution_count": 11,
      "outputs": []
    },
    {
      "cell_type": "code",
      "source": [
        "#일반화 성능 확인\n",
        "\n",
        "\n",
        "\n"
      ],
      "metadata": {
        "id": "LcGuG_UJNExq"
      },
      "execution_count": 12,
      "outputs": []
    }
  ]
}