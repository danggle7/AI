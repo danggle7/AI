{
  "nbformat": 4,
  "nbformat_minor": 0,
  "metadata": {
    "colab": {
      "provenance": []
    },
    "kernelspec": {
      "name": "python3",
      "display_name": "Python 3"
    },
    "language_info": {
      "name": "python"
    }
  },
  "cells": [
    {
      "cell_type": "markdown",
      "source": [
        "### 타이타닉 생존여부 예측모델 만들기\n",
        "- survived : 생존 유무 (1:생존, 0:사망) - 범주형    ------------- 정답, label, y\n",
        "-pclass : 선실등급 (1>2>3... 1등실이 가장 좋음) - 범주형(순서형) -> 가중치를 줄 수 있다. --------- 학습데이터, x\n",
        "-sex : 성별 - 범주형(명목형) -> one-hot encoding 필요\n",
        "-age : 나이 - 수치형(연속형 : 실수)\n",
        "-sibsp : 부부, 형제자매 수 - 수치형(이산형 : 정수)\n",
        "-parch : 부모, 자식 수 - 수치형(이산형 : 정수)\n",
        "-ticket : 티켓 번호 (의미X)\n",
        "-fare : 운임 - 수치형(연속형 : 실수)\n",
        "-cabin : 선실번호\n",
        "-embarked : 짐 유무\n",
        "-boat : 탈출 보트 번호  * NaN : 결측치\n",
        "-body : 신체정보\n",
        "-home.dest : 출발지, 목적지  "
      ],
      "metadata": {
        "id": "Ce4PrwYmfCBG"
      }
    },
    {
      "cell_type": "code",
      "source": [
        "#라이브러리 import\n",
        "import pandas as pd\n",
        "import numpy as np"
      ],
      "metadata": {
        "id": "dlEF5_88fKql"
      },
      "execution_count": 1,
      "outputs": []
    },
    {
      "cell_type": "code",
      "source": [
        "# data/titanic.xls 파일 불러오기\n",
        "\n"
      ],
      "metadata": {
        "id": "hI3KLOi1fZxp"
      },
      "execution_count": 2,
      "outputs": []
    },
    {
      "cell_type": "code",
      "source": [
        "# DataFrame 정보 확인\n",
        "\n",
        "\n"
      ],
      "metadata": {
        "id": "NJ3kzKMHgKPF"
      },
      "execution_count": 3,
      "outputs": []
    },
    {
      "cell_type": "code",
      "source": [
        "# 통계 정보 확인\n"
      ],
      "metadata": {
        "id": "DbJF3kltfr7g"
      },
      "execution_count": 4,
      "outputs": []
    },
    {
      "cell_type": "code",
      "source": [
        "# 불필요 컬럼 삭제 : ['body', 'name', 'embarked', 'body', 'home.dest','boat','cabin','ticket']\n",
        "\n"
      ],
      "metadata": {
        "id": "NQt5B_jTgeNu"
      },
      "execution_count": 5,
      "outputs": []
    },
    {
      "cell_type": "code",
      "source": [
        "# 결측치 제거\n",
        "\n"
      ],
      "metadata": {
        "id": "GLCtxt9EhYy7"
      },
      "execution_count": 6,
      "outputs": []
    },
    {
      "cell_type": "code",
      "source": [
        "# 남여 정보를 숫자로 변경, 머신러닝의 재료가 되기 위해서 숫자 변경\n",
        "# 남자(male)는 0으로, 여자(female)는 1로 변경 / 원칙적으로는 one-hot encoding 처리, 두가지 경우만 존재하기에 0, 1로 변경\n",
        "\n",
        "\n"
      ],
      "metadata": {
        "id": "XHTL7APUhsOF"
      },
      "execution_count": 7,
      "outputs": []
    },
    {
      "cell_type": "code",
      "source": [
        "#데이터 분리(라벨링)\n",
        "\n",
        "\n"
      ],
      "metadata": {
        "id": "N7epnvfTjl8T"
      },
      "execution_count": 8,
      "outputs": []
    },
    {
      "cell_type": "code",
      "source": [
        "\n",
        "\n"
      ],
      "metadata": {
        "id": "_xprDbGnjsM9"
      },
      "execution_count": 8,
      "outputs": []
    },
    {
      "cell_type": "markdown",
      "source": [
        "## ML 5단계\n",
        "### 1. 훈련 데이터와 테스트 데이터 준비\n",
        "### 2. 머신러닝 알고리즘 선택\n",
        "### 3. 훈련\n",
        "### 4. 평가(점수)\n",
        "### 5. 새 데이터로 예측"
      ],
      "metadata": {
        "id": "DDq-Rvs6DO3_"
      }
    },
    {
      "cell_type": "code",
      "source": [
        "# 1. 훈련 데이터와 테스트 데이터 준비"
      ],
      "metadata": {
        "id": "i2CVOZ9NmiTK"
      },
      "execution_count": null,
      "outputs": []
    },
    {
      "cell_type": "code",
      "source": [
        "\n"
      ],
      "metadata": {
        "id": "AZng7TopETYu"
      },
      "execution_count": 8,
      "outputs": []
    },
    {
      "cell_type": "code",
      "source": [
        "\n",
        "\n"
      ],
      "metadata": {
        "id": "kgQN0r4fEcNr"
      },
      "execution_count": 8,
      "outputs": []
    },
    {
      "cell_type": "code",
      "source": [
        "\n"
      ],
      "metadata": {
        "id": "xgEkpP2eEhBw"
      },
      "execution_count": 8,
      "outputs": []
    },
    {
      "cell_type": "code",
      "source": [
        "# 2. 머신러닝 알고리즘 선택"
      ],
      "metadata": {
        "id": "_cPJaVFsEkpk"
      },
      "execution_count": null,
      "outputs": []
    },
    {
      "cell_type": "code",
      "source": [
        "\n"
      ],
      "metadata": {
        "id": "uqsWGTRvF53f"
      },
      "execution_count": 8,
      "outputs": []
    },
    {
      "cell_type": "code",
      "source": [
        "\n"
      ],
      "metadata": {
        "id": "vOEHEF5Qj-rS"
      },
      "execution_count": 8,
      "outputs": []
    },
    {
      "cell_type": "code",
      "source": [
        "\n"
      ],
      "metadata": {
        "id": "CxZs-lrMElc3"
      },
      "execution_count": 8,
      "outputs": []
    },
    {
      "cell_type": "code",
      "source": [
        "\n"
      ],
      "metadata": {
        "id": "aTjaMpDWljsr"
      },
      "execution_count": 8,
      "outputs": []
    },
    {
      "cell_type": "code",
      "source": [
        "# 3. 훈련"
      ],
      "metadata": {
        "id": "Ax7vvqXfEtUi"
      },
      "execution_count": null,
      "outputs": []
    },
    {
      "cell_type": "code",
      "source": [
        "\n"
      ],
      "metadata": {
        "id": "074Bbu4YG-h0"
      },
      "execution_count": 8,
      "outputs": []
    },
    {
      "cell_type": "code",
      "source": [
        "\n"
      ],
      "metadata": {
        "id": "-B2eLMPNHVwO"
      },
      "execution_count": 8,
      "outputs": []
    },
    {
      "cell_type": "code",
      "source": [
        "# 4. 평가(점수)"
      ],
      "metadata": {
        "id": "Qefg02JpEy8N"
      },
      "execution_count": null,
      "outputs": []
    },
    {
      "cell_type": "code",
      "source": [
        "\n"
      ],
      "metadata": {
        "id": "w7Z-Uv1lHB7i"
      },
      "execution_count": 8,
      "outputs": []
    },
    {
      "cell_type": "code",
      "source": [
        "\n"
      ],
      "metadata": {
        "id": "TP1RIx20HZZr"
      },
      "execution_count": 8,
      "outputs": []
    },
    {
      "cell_type": "code",
      "source": [
        "# 5. 새 데이터로 예측"
      ],
      "metadata": {
        "id": "KEiyIRJzE5nm"
      },
      "execution_count": null,
      "outputs": []
    },
    {
      "cell_type": "code",
      "source": [
        "# 디카프리오는 살 수 있었다?\n",
        "# 3등실, 남자:0, 19살, 형제(0), 부모(0), 운임 100달러\n",
        "\n"
      ],
      "metadata": {
        "id": "NgIaXNGZE8L4"
      },
      "execution_count": 9,
      "outputs": []
    },
    {
      "cell_type": "code",
      "source": [
        "\n",
        "\n",
        "\n",
        ""
      ],
      "metadata": {
        "id": "Jn7JxKfDE_dx"
      },
      "execution_count": 10,
      "outputs": []
    },
    {
      "cell_type": "code",
      "source": [
        "\n"
      ],
      "metadata": {
        "id": "ftCNqXusFCB6"
      },
      "execution_count": 10,
      "outputs": []
    },
    {
      "cell_type": "code",
      "source": [
        "# 여주인공 윈슬릿은?\n",
        "# 1등실, 여자:1, 17살, 형제(1), 부모(2), 운임 100달러\n",
        "winslet = [[1, 1, 17, 1, 2, 100]]\n",
        "\n"
      ],
      "metadata": {
        "id": "4hw0MoqtFGfU"
      },
      "execution_count": 11,
      "outputs": []
    },
    {
      "cell_type": "code",
      "source": [
        "# 나는?\n",
        "# 2등실, 여자:1, 45살, 형제(0), 부모(0), 운임 100달러\n",
        "me = [[1, 1, 45, 1, 2, 100]]\n",
        "\n"
      ],
      "metadata": {
        "id": "cB6r7wxBFMJb"
      },
      "execution_count": 12,
      "outputs": []
    },
    {
      "cell_type": "code",
      "source": [
        "#matplotlib import\n",
        "\n",
        ""
      ],
      "metadata": {
        "id": "TGlzbhPsK59e"
      },
      "execution_count": 13,
      "outputs": []
    },
    {
      "cell_type": "code",
      "source": [
        "# 의사결정 트리 시각화\n",
        "\n",
        "\n",
        "\n"
      ],
      "metadata": {
        "id": "FBBwBLwJFPlZ"
      },
      "execution_count": 14,
      "outputs": []
    },
    {
      "cell_type": "code",
      "source": [
        "\n"
      ],
      "metadata": {
        "id": "teJgpWbhFSpb"
      },
      "execution_count": 14,
      "outputs": []
    },
    {
      "cell_type": "code",
      "source": [
        "\n",
        "\n",
        "\n",
        "\n",
        "\n",
        "\n",
        "\n"
      ],
      "metadata": {
        "id": "17-QPbOFFjN9"
      },
      "execution_count": 14,
      "outputs": []
    }
  ]
}