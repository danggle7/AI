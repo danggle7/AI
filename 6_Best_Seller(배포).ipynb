{
 "cells": [
  {
   "cell_type": "markdown",
   "metadata": {
    "id": "h7TrKpiimaqj"
   },
   "source": [
    "# 1. 데이터 읽기\n",
    "*   MoviesLens 100k 데이터는 3가지 파일로 구성\n",
    " ## 1. 사용자 데이터 : u.user\n",
    " ## 2. 영화에 대한 데이터 : u.item\n",
    " ## 3. 영화 평가 : u.data\n",
    "  "
   ]
  },
  {
   "cell_type": "code",
   "execution_count": 22,
   "metadata": {
    "colab": {
     "base_uri": "https://localhost:8080/",
     "height": 237
    },
    "id": "8V7LW-YFmx8r",
    "outputId": "d6426e68-112e-4eda-bbe1-f175cba2d22d"
   },
   "outputs": [],
   "source": [
    "# 사용자 데이터인 u.user 파일을 DataFrame으로 읽기\n",
    "\n",
    "\n",
    "\n",
    "\n"
   ]
  },
  {
   "cell_type": "code",
   "execution_count": 23,
   "metadata": {
    "id": "CTKjvJw-m7-Y"
   },
   "outputs": [],
   "source": [
    "# 영화에 대한 데이터인 u.item 파일을 DataFrame으로 읽기\n",
    "\n",
    "#i_cols = ['movie_id','title', 'release date', 'video release date','IMDB URL', 'unknown', 'Action', 'Adventure', 'Animation','Children\\'s','Comedy','Crime', 'Documentary','Drama','Fantasy','Film-Noir','Horror','Musical','Mystery','Romance','Sci-Fi','Thriller','War','Western']\n",
    "\n",
    "\n",
    "\n"
   ]
  },
  {
   "cell_type": "code",
   "execution_count": 24,
   "metadata": {
    "colab": {
     "base_uri": "https://localhost:8080/",
     "height": 237
    },
    "id": "VdzkJDr_nNzu",
    "outputId": "7cb8f230-b018-4d03-88af-0d693bb4f3e0"
   },
   "outputs": [],
   "source": [
    "# 영화 평가 데이터인 u.data 파일을 DataFrame으로 읽기\n",
    "\n",
    "\n",
    "\n",
    "\n"
   ]
  },
  {
   "cell_type": "markdown",
   "metadata": {
    "id": "FUXUGjgInglY"
   },
   "source": [
    "# 2. 인기제품(Best Seller) 추천 방식"
   ]
  },
  {
   "cell_type": "code",
   "execution_count": 25,
   "metadata": {
    "colab": {
     "base_uri": "https://localhost:8080/"
    },
    "id": "FwisTPiTnYzN",
    "outputId": "21216d8e-9adc-46f0-92f1-a1ae56a38f37"
   },
   "outputs": [],
   "source": [
    "# Best Seller 추천 function\n",
    "\n",
    "\n",
    "\n",
    "\n"
   ]
  },
  {
   "cell_type": "markdown",
   "metadata": {
    "id": "RuIwhIKXqiae"
   },
   "source": [
    "# 3. 정확성 지표 - RMSE"
   ]
  },
  {
   "cell_type": "code",
   "execution_count": 26,
   "metadata": {
    "colab": {
     "base_uri": "https://localhost:8080/"
    },
    "id": "2cy7YWNqqlJy",
    "outputId": "99ea1531-4193-4902-d24f-90024ce6ae3d"
   },
   "outputs": [],
   "source": [
    "# 실제값과 예측값의 RMSE를 계산하는 코드\n",
    "\n",
    "\n",
    "# RMSE 함수 \n",
    "\n",
    "\n",
    "\n",
    "\n",
    "\n",
    "\n",
    "# RMSE 계산\n",
    "#print(len(rmse))\n",
    "#print(rmse)\n",
    "#print(np.mean(rmse))\n"
   ]
  }
 ],
 "metadata": {
  "colab": {
   "collapsed_sections": [],
   "provenance": []
  },
  "kernelspec": {
   "display_name": "Python 3 (ipykernel)",
   "language": "python",
   "name": "python3"
  },
  "language_info": {
   "codemirror_mode": {
    "name": "ipython",
    "version": 3
   },
   "file_extension": ".py",
   "mimetype": "text/x-python",
   "name": "python",
   "nbconvert_exporter": "python",
   "pygments_lexer": "ipython3",
   "version": "3.7.13"
  }
 },
 "nbformat": 4,
 "nbformat_minor": 1
}
